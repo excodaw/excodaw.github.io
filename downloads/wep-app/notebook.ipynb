{
  "cells": [
    {
      "cell_type": "markdown",
      "source": [
        "# 머신러닝 모델을 사용하여 웹 앱 만들기"
      ],
      "metadata": {
        "id": "axhrbn9IIdOD"
      },
      "id": "axhrbn9IIdOD"
    },
    {
      "cell_type": "markdown",
      "source": [
        "NUFORC의 데이터베이스에서 얻은 데이터 셋에 대한 머신러닝 모델을 훈련하면서\n",
        "\n",
        "- 훈련된 모델을 'Pickle'하는 법\n",
        "\n",
        "- Flask 앰에서 모델을 사용하는 법\n",
        "\n",
        "을 알아볼 것이다."
      ],
      "metadata": {
        "id": "TK8m95COLTha"
      },
      "id": "TK8m95COLTha"
    },
    {
      "cell_type": "markdown",
      "source": [
        "## 앱 만들기"
      ],
      "metadata": {
        "id": "c-5GH1uFLD5J"
      },
      "id": "c-5GH1uFLD5J"
    },
    {
      "cell_type": "markdown",
      "source": [
        "앱을 만들기 전 다음과 같은 고려사항을 검토해야 한다\n",
        "- 웹 앱인지 모바일 앱인지 \n",
        "- 모델은 어디에 저장될 것인지\n",
        "- 오프라인 동작을 지원할 것인지\n",
        "- 모델을 훈련시키는데 어떤 기술이 사용될 것인지\n",
        "\n",
        "또한 웹 브라우저에서 모델 자체를 학습 가능한 Flask웹 앱을 만들 수 있다. 이 작업은 JavaScript 컨택스트에서 TensorFlow.js를 사용하여 수행할 수 있다.\n",
        "\n",
        "여기서는 Python 기반으로 모델을 학습할 것이기 때문에 Python에서 빌드한 웹 앱에서 읽을 수 있는 형식으로 내보내는데 필요한 단계를 살펴볼 것이다."
      ],
      "metadata": {
        "id": "Axy4RKzKLJEi"
      },
      "id": "Axy4RKzKLJEi"
    },
    {
      "cell_type": "markdown",
      "source": [
        "## 필요한 도구"
      ],
      "metadata": {
        "id": "UaIsb7KyQJrI"
      },
      "id": "UaIsb7KyQJrI"
    },
    {
      "cell_type": "markdown",
      "source": [
        "작업을 위해서는 Flask와 Pickle이라는 두 가지 도구가 필요하며 둘 다 파이썬에서 실행 가능하다.\n",
        "\n",
        "- Flask는 'micro-framework'로 정의되었다. 이것은 Python과 템플릿 엔진을 사용하여 웹 페이지를 빌드하는 웹 프레임 워크의 기본 기능을 제공한다.\n",
        "- Pickle은 Python 객체 구조를 직렬화와 역직렬화하는 것이 가능한 Python 모듈이다. 모델을 'Pickle'하면 웹에서 사용할 수 있도록 구조를 직렬화하거나 병합한다.\n",
        "\n",
        "  주의: Pickle은 안전하지 않으므로 파일을 'un-pickle' 하라는 메시지가 표시되면 주의해야 한다. pickle된 파일에는 `.pk1`이라는 접미사가 붙는다."
      ],
      "metadata": {
        "id": "eBYd9mhyQdjn"
      },
      "id": "eBYd9mhyQdjn"
    },
    {
      "cell_type": "markdown",
      "source": [
        "## 데이터 정리"
      ],
      "metadata": {
        "id": "CoGYmz7wF2Tg"
      },
      "id": "CoGYmz7wF2Tg"
    },
    {
      "cell_type": "markdown",
      "source": [
        "[NUFORC](https://nuforc.org/)에서 수집 한 80,000 UFO 목격 데이터를 사용한다. 이 데이터에는 UFO 목격에 대한 몇 가지 흥미로운 설명이 있다.\n",
        "- \"한 남자가 밤에 풀밭에서 비추는 빛의 광선에서 나와 텍사스 인스트루먼트 주차장을 향해 달려갑니다\"같은 긴 예제 설명이 존재한다\n",
        "- \"불빛이 우리를 쫓아다녔다\" 같은 짧은 예제 설명이 존재한다.\n",
        "\n",
        "[ufos.csv](https://github.com/codingalzi/ML-For-Beginners/blob/main/3-Web-App/1-Web-App/data/ufos.csv) 스프레드 시트에는 `city` `state` `country` `shape` `latitude` `longitude`같은 목격된 위치에 대한 정보가 열에 포함되어 있다.\n",
        "\n"
      ],
      "metadata": {
        "id": "XcJ4Zxn7F45s"
      },
      "id": "XcJ4Zxn7F45s"
    },
    {
      "cell_type": "markdown",
      "source": [
        "1. 데이터를 가져온다. "
      ],
      "metadata": {
        "id": "fVmsz6dHHkuv"
      },
      "id": "fVmsz6dHHkuv"
    },
    {
      "cell_type": "code",
      "source": [
        "import pandas as pd\n",
        "import numpy as np\n",
        "\n",
        "ufos = pd.read_csv('https://raw.githubusercontent.com/codingalzi/ML-For-Beginners/main/3-Web-App/1-Web-App/data/ufos.csv')\n",
        "ufos.head()"
      ],
      "metadata": {
        "colab": {
          "base_uri": "https://localhost:8080/",
          "height": 600
        },
        "id": "rnOOHVRVHo3g",
        "outputId": "a1669305-3f1a-4135-b090-ae18cc379b75"
      },
      "id": "rnOOHVRVHo3g",
      "execution_count": 1,
      "outputs": [
        {
          "output_type": "execute_result",
          "data": {
            "text/plain": [
              "           datetime                  city state country     shape  \\\n",
              "0  10/10/1949 20:30            san marcos    tx      us  cylinder   \n",
              "1  10/10/1949 21:00          lackland afb    tx     NaN     light   \n",
              "2  10/10/1955 17:00  chester (uk/england)   NaN      gb    circle   \n",
              "3  10/10/1956 21:00                  edna    tx      us    circle   \n",
              "4  10/10/1960 20:00               kaneohe    hi      us     light   \n",
              "\n",
              "   duration (seconds) duration (hours/min)  \\\n",
              "0              2700.0           45 minutes   \n",
              "1              7200.0              1-2 hrs   \n",
              "2                20.0           20 seconds   \n",
              "3                20.0             1/2 hour   \n",
              "4               900.0           15 minutes   \n",
              "\n",
              "                                            comments date posted   latitude  \\\n",
              "0  This event took place in early fall around 194...   4/27/2004  29.883056   \n",
              "1  1949 Lackland AFB&#44 TX.  Lights racing acros...  12/16/2005  29.384210   \n",
              "2  Green/Orange circular disc over Chester&#44 En...   1/21/2008  53.200000   \n",
              "3  My older brother and twin sister were leaving ...   1/17/2004  28.978333   \n",
              "4  AS a Marine 1st Lt. flying an FJ4B fighter/att...   1/22/2004  21.418056   \n",
              "\n",
              "    longitude  \n",
              "0  -97.941111  \n",
              "1  -98.581082  \n",
              "2   -2.916667  \n",
              "3  -96.645833  \n",
              "4 -157.803611  "
            ],
            "text/html": [
              "\n",
              "  <div id=\"df-4b77304d-63fe-4475-bd04-046de3b17417\">\n",
              "    <div class=\"colab-df-container\">\n",
              "      <div>\n",
              "<style scoped>\n",
              "    .dataframe tbody tr th:only-of-type {\n",
              "        vertical-align: middle;\n",
              "    }\n",
              "\n",
              "    .dataframe tbody tr th {\n",
              "        vertical-align: top;\n",
              "    }\n",
              "\n",
              "    .dataframe thead th {\n",
              "        text-align: right;\n",
              "    }\n",
              "</style>\n",
              "<table border=\"1\" class=\"dataframe\">\n",
              "  <thead>\n",
              "    <tr style=\"text-align: right;\">\n",
              "      <th></th>\n",
              "      <th>datetime</th>\n",
              "      <th>city</th>\n",
              "      <th>state</th>\n",
              "      <th>country</th>\n",
              "      <th>shape</th>\n",
              "      <th>duration (seconds)</th>\n",
              "      <th>duration (hours/min)</th>\n",
              "      <th>comments</th>\n",
              "      <th>date posted</th>\n",
              "      <th>latitude</th>\n",
              "      <th>longitude</th>\n",
              "    </tr>\n",
              "  </thead>\n",
              "  <tbody>\n",
              "    <tr>\n",
              "      <th>0</th>\n",
              "      <td>10/10/1949 20:30</td>\n",
              "      <td>san marcos</td>\n",
              "      <td>tx</td>\n",
              "      <td>us</td>\n",
              "      <td>cylinder</td>\n",
              "      <td>2700.0</td>\n",
              "      <td>45 minutes</td>\n",
              "      <td>This event took place in early fall around 194...</td>\n",
              "      <td>4/27/2004</td>\n",
              "      <td>29.883056</td>\n",
              "      <td>-97.941111</td>\n",
              "    </tr>\n",
              "    <tr>\n",
              "      <th>1</th>\n",
              "      <td>10/10/1949 21:00</td>\n",
              "      <td>lackland afb</td>\n",
              "      <td>tx</td>\n",
              "      <td>NaN</td>\n",
              "      <td>light</td>\n",
              "      <td>7200.0</td>\n",
              "      <td>1-2 hrs</td>\n",
              "      <td>1949 Lackland AFB&amp;#44 TX.  Lights racing acros...</td>\n",
              "      <td>12/16/2005</td>\n",
              "      <td>29.384210</td>\n",
              "      <td>-98.581082</td>\n",
              "    </tr>\n",
              "    <tr>\n",
              "      <th>2</th>\n",
              "      <td>10/10/1955 17:00</td>\n",
              "      <td>chester (uk/england)</td>\n",
              "      <td>NaN</td>\n",
              "      <td>gb</td>\n",
              "      <td>circle</td>\n",
              "      <td>20.0</td>\n",
              "      <td>20 seconds</td>\n",
              "      <td>Green/Orange circular disc over Chester&amp;#44 En...</td>\n",
              "      <td>1/21/2008</td>\n",
              "      <td>53.200000</td>\n",
              "      <td>-2.916667</td>\n",
              "    </tr>\n",
              "    <tr>\n",
              "      <th>3</th>\n",
              "      <td>10/10/1956 21:00</td>\n",
              "      <td>edna</td>\n",
              "      <td>tx</td>\n",
              "      <td>us</td>\n",
              "      <td>circle</td>\n",
              "      <td>20.0</td>\n",
              "      <td>1/2 hour</td>\n",
              "      <td>My older brother and twin sister were leaving ...</td>\n",
              "      <td>1/17/2004</td>\n",
              "      <td>28.978333</td>\n",
              "      <td>-96.645833</td>\n",
              "    </tr>\n",
              "    <tr>\n",
              "      <th>4</th>\n",
              "      <td>10/10/1960 20:00</td>\n",
              "      <td>kaneohe</td>\n",
              "      <td>hi</td>\n",
              "      <td>us</td>\n",
              "      <td>light</td>\n",
              "      <td>900.0</td>\n",
              "      <td>15 minutes</td>\n",
              "      <td>AS a Marine 1st Lt. flying an FJ4B fighter/att...</td>\n",
              "      <td>1/22/2004</td>\n",
              "      <td>21.418056</td>\n",
              "      <td>-157.803611</td>\n",
              "    </tr>\n",
              "  </tbody>\n",
              "</table>\n",
              "</div>\n",
              "      <button class=\"colab-df-convert\" onclick=\"convertToInteractive('df-4b77304d-63fe-4475-bd04-046de3b17417')\"\n",
              "              title=\"Convert this dataframe to an interactive table.\"\n",
              "              style=\"display:none;\">\n",
              "        \n",
              "  <svg xmlns=\"http://www.w3.org/2000/svg\" height=\"24px\"viewBox=\"0 0 24 24\"\n",
              "       width=\"24px\">\n",
              "    <path d=\"M0 0h24v24H0V0z\" fill=\"none\"/>\n",
              "    <path d=\"M18.56 5.44l.94 2.06.94-2.06 2.06-.94-2.06-.94-.94-2.06-.94 2.06-2.06.94zm-11 1L8.5 8.5l.94-2.06 2.06-.94-2.06-.94L8.5 2.5l-.94 2.06-2.06.94zm10 10l.94 2.06.94-2.06 2.06-.94-2.06-.94-.94-2.06-.94 2.06-2.06.94z\"/><path d=\"M17.41 7.96l-1.37-1.37c-.4-.4-.92-.59-1.43-.59-.52 0-1.04.2-1.43.59L10.3 9.45l-7.72 7.72c-.78.78-.78 2.05 0 2.83L4 21.41c.39.39.9.59 1.41.59.51 0 1.02-.2 1.41-.59l7.78-7.78 2.81-2.81c.8-.78.8-2.07 0-2.86zM5.41 20L4 18.59l7.72-7.72 1.47 1.35L5.41 20z\"/>\n",
              "  </svg>\n",
              "      </button>\n",
              "      \n",
              "  <style>\n",
              "    .colab-df-container {\n",
              "      display:flex;\n",
              "      flex-wrap:wrap;\n",
              "      gap: 12px;\n",
              "    }\n",
              "\n",
              "    .colab-df-convert {\n",
              "      background-color: #E8F0FE;\n",
              "      border: none;\n",
              "      border-radius: 50%;\n",
              "      cursor: pointer;\n",
              "      display: none;\n",
              "      fill: #1967D2;\n",
              "      height: 32px;\n",
              "      padding: 0 0 0 0;\n",
              "      width: 32px;\n",
              "    }\n",
              "\n",
              "    .colab-df-convert:hover {\n",
              "      background-color: #E2EBFA;\n",
              "      box-shadow: 0px 1px 2px rgba(60, 64, 67, 0.3), 0px 1px 3px 1px rgba(60, 64, 67, 0.15);\n",
              "      fill: #174EA6;\n",
              "    }\n",
              "\n",
              "    [theme=dark] .colab-df-convert {\n",
              "      background-color: #3B4455;\n",
              "      fill: #D2E3FC;\n",
              "    }\n",
              "\n",
              "    [theme=dark] .colab-df-convert:hover {\n",
              "      background-color: #434B5C;\n",
              "      box-shadow: 0px 1px 3px 1px rgba(0, 0, 0, 0.15);\n",
              "      filter: drop-shadow(0px 1px 2px rgba(0, 0, 0, 0.3));\n",
              "      fill: #FFFFFF;\n",
              "    }\n",
              "  </style>\n",
              "\n",
              "      <script>\n",
              "        const buttonEl =\n",
              "          document.querySelector('#df-4b77304d-63fe-4475-bd04-046de3b17417 button.colab-df-convert');\n",
              "        buttonEl.style.display =\n",
              "          google.colab.kernel.accessAllowed ? 'block' : 'none';\n",
              "\n",
              "        async function convertToInteractive(key) {\n",
              "          const element = document.querySelector('#df-4b77304d-63fe-4475-bd04-046de3b17417');\n",
              "          const dataTable =\n",
              "            await google.colab.kernel.invokeFunction('convertToInteractive',\n",
              "                                                     [key], {});\n",
              "          if (!dataTable) return;\n",
              "\n",
              "          const docLinkHtml = 'Like what you see? Visit the ' +\n",
              "            '<a target=\"_blank\" href=https://colab.research.google.com/notebooks/data_table.ipynb>data table notebook</a>'\n",
              "            + ' to learn more about interactive tables.';\n",
              "          element.innerHTML = '';\n",
              "          dataTable['output_type'] = 'display_data';\n",
              "          await google.colab.output.renderOutput(dataTable, element);\n",
              "          const docLink = document.createElement('div');\n",
              "          docLink.innerHTML = docLinkHtml;\n",
              "          element.appendChild(docLink);\n",
              "        }\n",
              "      </script>\n",
              "    </div>\n",
              "  </div>\n",
              "  "
            ]
          },
          "metadata": {},
          "execution_count": 1
        }
      ]
    },
    {
      "cell_type": "markdown",
      "source": [
        "2. ufos 데이터를 새로운 제목의 작은 데이터 프레임으로 변환한다. 필드에서 `Country`의 고유 값을 확인한다."
      ],
      "metadata": {
        "id": "MxKNyA_hH9-x"
      },
      "id": "MxKNyA_hH9-x"
    },
    {
      "cell_type": "code",
      "source": [
        "ufos = pd.DataFrame({'Seconds': ufos['duration (seconds)'], 'Country': ufos['country'],'Latitude': ufos['latitude'],'Longitude': ufos['longitude']})\n",
        "\n",
        "ufos.Country.unique()"
      ],
      "metadata": {
        "colab": {
          "base_uri": "https://localhost:8080/"
        },
        "id": "tktwE0zjIFX-",
        "outputId": "1c5a128e-16a5-40e1-9cff-9f4855d4df29"
      },
      "id": "tktwE0zjIFX-",
      "execution_count": 2,
      "outputs": [
        {
          "output_type": "execute_result",
          "data": {
            "text/plain": [
              "array(['us', nan, 'gb', 'ca', 'au', 'de'], dtype=object)"
            ]
          },
          "metadata": {},
          "execution_count": 2
        }
      ]
    },
    {
      "cell_type": "markdown",
      "source": [
        "이제 `null`값을 삭제하고 1 ~ 60초 사이의 목격만 추출하여 처리할 데이터의 양을 줄일 수 있다."
      ],
      "metadata": {
        "id": "jLVtppvjINji"
      },
      "id": "jLVtppvjINji"
    },
    {
      "cell_type": "code",
      "source": [
        "ufos.dropna(inplace=True)\n",
        "\n",
        "ufos = ufos[(ufos['Seconds'] >= 1) & (ufos['Seconds'] <= 60)]\n",
        "\n",
        "ufos.info()"
      ],
      "metadata": {
        "colab": {
          "base_uri": "https://localhost:8080/"
        },
        "id": "5ltuVGNoITiV",
        "outputId": "b3d2906c-fa76-4c5a-d61d-f8225e959e08"
      },
      "id": "5ltuVGNoITiV",
      "execution_count": 3,
      "outputs": [
        {
          "output_type": "stream",
          "name": "stdout",
          "text": [
            "<class 'pandas.core.frame.DataFrame'>\n",
            "Int64Index: 25863 entries, 2 to 80330\n",
            "Data columns (total 4 columns):\n",
            " #   Column     Non-Null Count  Dtype  \n",
            "---  ------     --------------  -----  \n",
            " 0   Seconds    25863 non-null  float64\n",
            " 1   Country    25863 non-null  object \n",
            " 2   Latitude   25863 non-null  float64\n",
            " 3   Longitude  25863 non-null  float64\n",
            "dtypes: float64(3), object(1)\n",
            "memory usage: 1010.3+ KB\n"
          ]
        }
      ]
    },
    {
      "cell_type": "markdown",
      "source": [
        "Scikit-learn의 `LabelEncoder` 라이브러리를 가져와 국가의 텍스트 값을 숫자로 변환한다. 해당 라이브러리는 데이터를 알파벳순으로 인코딩한다."
      ],
      "metadata": {
        "id": "8wIrsKhsIV6n"
      },
      "id": "8wIrsKhsIV6n"
    },
    {
      "cell_type": "code",
      "source": [
        "from sklearn.preprocessing import LabelEncoder\n",
        "\n",
        "ufos['Country'] = LabelEncoder().fit_transform(ufos['Country'])\n",
        "\n",
        "ufos.head()"
      ],
      "metadata": {
        "colab": {
          "base_uri": "https://localhost:8080/",
          "height": 206
        },
        "id": "q9JCsuPNIeRT",
        "outputId": "7accb7cf-c694-4d49-a35f-91d0c4d67af0"
      },
      "id": "q9JCsuPNIeRT",
      "execution_count": 4,
      "outputs": [
        {
          "output_type": "execute_result",
          "data": {
            "text/plain": [
              "    Seconds  Country   Latitude   Longitude\n",
              "2      20.0        3  53.200000   -2.916667\n",
              "3      20.0        4  28.978333  -96.645833\n",
              "14     30.0        4  35.823889  -80.253611\n",
              "23     60.0        4  45.582778 -122.352222\n",
              "24      3.0        3  51.783333   -0.783333"
            ],
            "text/html": [
              "\n",
              "  <div id=\"df-c1f324d0-da70-49ee-9270-e2195d26bdbe\">\n",
              "    <div class=\"colab-df-container\">\n",
              "      <div>\n",
              "<style scoped>\n",
              "    .dataframe tbody tr th:only-of-type {\n",
              "        vertical-align: middle;\n",
              "    }\n",
              "\n",
              "    .dataframe tbody tr th {\n",
              "        vertical-align: top;\n",
              "    }\n",
              "\n",
              "    .dataframe thead th {\n",
              "        text-align: right;\n",
              "    }\n",
              "</style>\n",
              "<table border=\"1\" class=\"dataframe\">\n",
              "  <thead>\n",
              "    <tr style=\"text-align: right;\">\n",
              "      <th></th>\n",
              "      <th>Seconds</th>\n",
              "      <th>Country</th>\n",
              "      <th>Latitude</th>\n",
              "      <th>Longitude</th>\n",
              "    </tr>\n",
              "  </thead>\n",
              "  <tbody>\n",
              "    <tr>\n",
              "      <th>2</th>\n",
              "      <td>20.0</td>\n",
              "      <td>3</td>\n",
              "      <td>53.200000</td>\n",
              "      <td>-2.916667</td>\n",
              "    </tr>\n",
              "    <tr>\n",
              "      <th>3</th>\n",
              "      <td>20.0</td>\n",
              "      <td>4</td>\n",
              "      <td>28.978333</td>\n",
              "      <td>-96.645833</td>\n",
              "    </tr>\n",
              "    <tr>\n",
              "      <th>14</th>\n",
              "      <td>30.0</td>\n",
              "      <td>4</td>\n",
              "      <td>35.823889</td>\n",
              "      <td>-80.253611</td>\n",
              "    </tr>\n",
              "    <tr>\n",
              "      <th>23</th>\n",
              "      <td>60.0</td>\n",
              "      <td>4</td>\n",
              "      <td>45.582778</td>\n",
              "      <td>-122.352222</td>\n",
              "    </tr>\n",
              "    <tr>\n",
              "      <th>24</th>\n",
              "      <td>3.0</td>\n",
              "      <td>3</td>\n",
              "      <td>51.783333</td>\n",
              "      <td>-0.783333</td>\n",
              "    </tr>\n",
              "  </tbody>\n",
              "</table>\n",
              "</div>\n",
              "      <button class=\"colab-df-convert\" onclick=\"convertToInteractive('df-c1f324d0-da70-49ee-9270-e2195d26bdbe')\"\n",
              "              title=\"Convert this dataframe to an interactive table.\"\n",
              "              style=\"display:none;\">\n",
              "        \n",
              "  <svg xmlns=\"http://www.w3.org/2000/svg\" height=\"24px\"viewBox=\"0 0 24 24\"\n",
              "       width=\"24px\">\n",
              "    <path d=\"M0 0h24v24H0V0z\" fill=\"none\"/>\n",
              "    <path d=\"M18.56 5.44l.94 2.06.94-2.06 2.06-.94-2.06-.94-.94-2.06-.94 2.06-2.06.94zm-11 1L8.5 8.5l.94-2.06 2.06-.94-2.06-.94L8.5 2.5l-.94 2.06-2.06.94zm10 10l.94 2.06.94-2.06 2.06-.94-2.06-.94-.94-2.06-.94 2.06-2.06.94z\"/><path d=\"M17.41 7.96l-1.37-1.37c-.4-.4-.92-.59-1.43-.59-.52 0-1.04.2-1.43.59L10.3 9.45l-7.72 7.72c-.78.78-.78 2.05 0 2.83L4 21.41c.39.39.9.59 1.41.59.51 0 1.02-.2 1.41-.59l7.78-7.78 2.81-2.81c.8-.78.8-2.07 0-2.86zM5.41 20L4 18.59l7.72-7.72 1.47 1.35L5.41 20z\"/>\n",
              "  </svg>\n",
              "      </button>\n",
              "      \n",
              "  <style>\n",
              "    .colab-df-container {\n",
              "      display:flex;\n",
              "      flex-wrap:wrap;\n",
              "      gap: 12px;\n",
              "    }\n",
              "\n",
              "    .colab-df-convert {\n",
              "      background-color: #E8F0FE;\n",
              "      border: none;\n",
              "      border-radius: 50%;\n",
              "      cursor: pointer;\n",
              "      display: none;\n",
              "      fill: #1967D2;\n",
              "      height: 32px;\n",
              "      padding: 0 0 0 0;\n",
              "      width: 32px;\n",
              "    }\n",
              "\n",
              "    .colab-df-convert:hover {\n",
              "      background-color: #E2EBFA;\n",
              "      box-shadow: 0px 1px 2px rgba(60, 64, 67, 0.3), 0px 1px 3px 1px rgba(60, 64, 67, 0.15);\n",
              "      fill: #174EA6;\n",
              "    }\n",
              "\n",
              "    [theme=dark] .colab-df-convert {\n",
              "      background-color: #3B4455;\n",
              "      fill: #D2E3FC;\n",
              "    }\n",
              "\n",
              "    [theme=dark] .colab-df-convert:hover {\n",
              "      background-color: #434B5C;\n",
              "      box-shadow: 0px 1px 3px 1px rgba(0, 0, 0, 0.15);\n",
              "      filter: drop-shadow(0px 1px 2px rgba(0, 0, 0, 0.3));\n",
              "      fill: #FFFFFF;\n",
              "    }\n",
              "  </style>\n",
              "\n",
              "      <script>\n",
              "        const buttonEl =\n",
              "          document.querySelector('#df-c1f324d0-da70-49ee-9270-e2195d26bdbe button.colab-df-convert');\n",
              "        buttonEl.style.display =\n",
              "          google.colab.kernel.accessAllowed ? 'block' : 'none';\n",
              "\n",
              "        async function convertToInteractive(key) {\n",
              "          const element = document.querySelector('#df-c1f324d0-da70-49ee-9270-e2195d26bdbe');\n",
              "          const dataTable =\n",
              "            await google.colab.kernel.invokeFunction('convertToInteractive',\n",
              "                                                     [key], {});\n",
              "          if (!dataTable) return;\n",
              "\n",
              "          const docLinkHtml = 'Like what you see? Visit the ' +\n",
              "            '<a target=\"_blank\" href=https://colab.research.google.com/notebooks/data_table.ipynb>data table notebook</a>'\n",
              "            + ' to learn more about interactive tables.';\n",
              "          element.innerHTML = '';\n",
              "          dataTable['output_type'] = 'display_data';\n",
              "          await google.colab.output.renderOutput(dataTable, element);\n",
              "          const docLink = document.createElement('div');\n",
              "          docLink.innerHTML = docLinkHtml;\n",
              "          element.appendChild(docLink);\n",
              "        }\n",
              "      </script>\n",
              "    </div>\n",
              "  </div>\n",
              "  "
            ]
          },
          "metadata": {},
          "execution_count": 4
        }
      ]
    },
    {
      "cell_type": "markdown",
      "source": [
        "## 모델 빌드"
      ],
      "metadata": {
        "id": "GBqg7s8_Igne"
      },
      "id": "GBqg7s8_Igne"
    },
    {
      "cell_type": "markdown",
      "source": [
        "이제 데이터를 훈련과 테스트 그룹으로 나누었기 때문에 모델을 훈련할 수 있다."
      ],
      "metadata": {
        "id": "FZKNG1baIp-L"
      },
      "id": "FZKNG1baIp-L"
    },
    {
      "cell_type": "markdown",
      "source": [
        "1. 학습하려는 세 가지 기능을 X 벡터로 선택하면 y벡터가"
      ],
      "metadata": {
        "id": "S5-JKOtnJLU7"
      },
      "id": "S5-JKOtnJLU7"
    },
    {
      "cell_type": "code",
      "source": [
        "from sklearn.model_selection import train_test_split\n",
        "\n",
        "Selected_features = ['Seconds','Latitude','Longitude']\n",
        "\n",
        "X = ufos[Selected_features]\n",
        "y = ufos['Country']\n",
        "\n",
        "X_train, X_test, y_train, y_test = train_test_split(X, y, test_size=0.2, random_state=0)"
      ],
      "metadata": {
        "id": "FlGzsrKwJI_I"
      },
      "id": "FlGzsrKwJI_I",
      "execution_count": 5,
      "outputs": []
    },
    {
      "cell_type": "markdown",
      "source": [
        "2. 로지스틱 회귀를 이용하여 모델을 훈련한다."
      ],
      "metadata": {
        "id": "j5YKr7dXJytT"
      },
      "id": "j5YKr7dXJytT"
    },
    {
      "cell_type": "code",
      "source": [
        "from sklearn.metrics import accuracy_score, classification_report\n",
        "from sklearn.linear_model import LogisticRegression\n",
        "model = LogisticRegression()\n",
        "model.fit(X_train, y_train)\n",
        "predictions = model.predict(X_test)\n",
        "\n",
        "print(classification_report(y_test, predictions))\n",
        "print('Predicted labels: ', predictions)\n",
        "print('Accuracy: ', accuracy_score(y_test, predictions))"
      ],
      "metadata": {
        "colab": {
          "base_uri": "https://localhost:8080/"
        },
        "id": "-VPN-zFdJ1MM",
        "outputId": "765d8289-008d-475e-f9b8-d0b8df91e331"
      },
      "id": "-VPN-zFdJ1MM",
      "execution_count": 6,
      "outputs": [
        {
          "output_type": "stream",
          "name": "stdout",
          "text": [
            "              precision    recall  f1-score   support\n",
            "\n",
            "           0       1.00      1.00      1.00        41\n",
            "           1       0.83      0.23      0.36       250\n",
            "           2       1.00      1.00      1.00         8\n",
            "           3       1.00      1.00      1.00       131\n",
            "           4       0.96      1.00      0.98      4743\n",
            "\n",
            "    accuracy                           0.96      5173\n",
            "   macro avg       0.96      0.85      0.87      5173\n",
            "weighted avg       0.96      0.96      0.95      5173\n",
            "\n",
            "Predicted labels:  [4 4 4 ... 3 4 4]\n",
            "Accuracy:  0.960371157935434\n"
          ]
        },
        {
          "output_type": "stream",
          "name": "stderr",
          "text": [
            "/usr/local/lib/python3.7/dist-packages/sklearn/linear_model/_logistic.py:818: ConvergenceWarning: lbfgs failed to converge (status=1):\n",
            "STOP: TOTAL NO. of ITERATIONS REACHED LIMIT.\n",
            "\n",
            "Increase the number of iterations (max_iter) or scale the data as shown in:\n",
            "    https://scikit-learn.org/stable/modules/preprocessing.html\n",
            "Please also refer to the documentation for alternative solver options:\n",
            "    https://scikit-learn.org/stable/modules/linear_model.html#logistic-regression\n",
            "  extra_warning_msg=_LOGISTIC_SOLVER_CONVERGENCE_MSG,\n"
          ]
        }
      ]
    },
    {
      "cell_type": "markdown",
      "source": [
        "정확도는 95%정도로 나쁘지 않다. `Country`와 `LaLatitude/Longitude`간의 상관관계가 존재한다.\n",
        "\n",
        "제작한 모델은 그 모델에서 a를 추론할 수 있어야하므로 혁신적이진 않지만 웹 응용 프로그램에서 이 모델을 정리 후 내보낸 다음 사용하는 원시 데이터에서 학습하는 것이 좋다."
      ],
      "metadata": {
        "id": "gjASn60UNtaB"
      },
      "id": "gjASn60UNtaB"
    },
    {
      "cell_type": "markdown",
      "source": [
        "### 모델 'Pickle'"
      ],
      "metadata": {
        "id": "50caZelorSwn"
      },
      "id": "50caZelorSwn"
    },
    {
      "cell_type": "markdown",
      "source": [
        "이제 모델을 'Pickle'할 차례이다. Pickle된 모델을 로드하여 시간, 위도 및 경도 값을 포함하는 샘플 데이터 배열에 대해 테스트 해본다."
      ],
      "metadata": {
        "id": "HNLYEdperUtI"
      },
      "id": "HNLYEdperUtI"
    },
    {
      "cell_type": "code",
      "source": [
        "import pickle\n",
        "model_filename = 'ufo-model.pkl'\n",
        "pickle.dump(model, open(model_filename,'wb'))\n",
        "\n",
        "model = pickle.load(open('ufo-model.pkl','rb'))\n",
        "print(model.predict([[50,44,-12]]))"
      ],
      "metadata": {
        "colab": {
          "base_uri": "https://localhost:8080/"
        },
        "id": "IM5hWMzyroRE",
        "outputId": "509ddee6-a98a-43c1-ecef-1a88f4ba2b69"
      },
      "id": "IM5hWMzyroRE",
      "execution_count": 7,
      "outputs": [
        {
          "output_type": "stream",
          "name": "stdout",
          "text": [
            "[1]\n"
          ]
        },
        {
          "output_type": "stream",
          "name": "stderr",
          "text": [
            "/usr/local/lib/python3.7/dist-packages/sklearn/base.py:451: UserWarning: X does not have valid feature names, but LogisticRegression was fitted with feature names\n",
            "  \"X does not have valid feature names, but\"\n"
          ]
        }
      ]
    },
    {
      "cell_type": "markdown",
      "source": [
        "해당 모델은 영국의 국가 코드인 3을 반환한다."
      ],
      "metadata": {
        "id": "eeas2Fqnrx6-"
      },
      "id": "eeas2Fqnrx6-"
    },
    {
      "cell_type": "markdown",
      "source": [
        "### Flask 앱 만들기"
      ],
      "metadata": {
        "id": "lJHsxnRur3Vt"
      },
      "id": "lJHsxnRur3Vt"
    },
    {
      "cell_type": "markdown",
      "source": [
        "Flask 앱을 빌드하여 모델을 호출하고 시각화 한다.\n",
        "1. web-app이라는 폴더를 만든다\n",
        "2. 이 폴더에서 세 개의 폴더를 만든다. 웹 앱 안 static 폴더 안 css안 templates 안에 파일이 있어야 한다."
      ],
      "metadata": {
        "id": "vzSXZ7yCr4za"
      },
      "id": "vzSXZ7yCr4za"
    },
    {
      "cell_type": "markdown",
      "source": [
        "```\n",
        "web-app/\n",
        "  static/\n",
        "    css/\n",
        "  templates/\n",
        "notebook.ipynb\n",
        "ufo-model.pkl\n",
        "```"
      ],
      "metadata": {
        "id": "HEKv8kkVsXyd"
      },
      "id": "HEKv8kkVsXyd"
    },
    {
      "cell_type": "markdown",
      "source": [
        "3. web-app 폴더에서 만드는 첫 번째 파일은 requirements.txt이다. 이 파일에는 앱에 필요한 종속성이 나열된다. requirements.txt에서 줄을 추가한다."
      ],
      "metadata": {
        "id": "JKZnqNHxsZ7S"
      },
      "id": "JKZnqNHxsZ7S"
    },
    {
      "cell_type": "markdown",
      "source": [
        "```\n",
        "scikit-learn\n",
        "pandas\n",
        "numpy\n",
        "flask\n",
        "```"
      ],
      "metadata": {
        "id": "TYaZfcJ2s5iB"
      },
      "id": "TYaZfcJ2s5iB"
    },
    {
      "cell_type": "markdown",
      "source": [
        "4. 이제 웹 앱으로 이동하여 이 파일을 실행한다."
      ],
      "metadata": {
        "id": "bvlKxWV2s7Mw"
      },
      "id": "bvlKxWV2s7Mw"
    },
    {
      "cell_type": "markdown",
      "source": [
        "```\n",
        "cd web-app\n",
        "```"
      ],
      "metadata": {
        "id": "5702JrQss-47"
      },
      "id": "5702JrQss-47"
    },
    {
      "cell_type": "markdown",
      "source": [
        "5. 터미널 유형에서 요구 사항에 나열된 라이브러리를 설치하려면 다음을 줄이 필요하다"
      ],
      "metadata": {
        "id": "7uNoef8btBEm"
      },
      "id": "7uNoef8btBEm"
    },
    {
      "cell_type": "markdown",
      "source": [
        "```\n",
        "pip install -r requirements.txt\n",
        "```"
      ],
      "metadata": {
        "id": "gXJmwCN4tHIp"
      },
      "id": "gXJmwCN4tHIp"
    },
    {
      "cell_type": "markdown",
      "source": [
        "6. 이제 앱을 완료하기 위해 세 개의 파일을 더 만들어야 한다.\n",
        "  \n",
        "  - 루트에 app.py를 만든다\n",
        "  - templates 디렉토리에 index.html을 만든다\n",
        "  - static/css 디렉토리에 styles.css를 만든다"
      ],
      "metadata": {
        "id": "pUYHoN_UtI_f"
      },
      "id": "pUYHoN_UtI_f"
    },
    {
      "cell_type": "markdown",
      "source": [
        "7. styles.css 파일을 구성한다"
      ],
      "metadata": {
        "id": "KHUBsohHtdNG"
      },
      "id": "KHUBsohHtdNG"
    },
    {
      "cell_type": "markdown",
      "source": [
        "```css\n",
        "body {\n",
        "\twidth: 100%;\n",
        "\theight: 100%;\n",
        "\tfont-family: 'Helvetica';\n",
        "\tbackground: black;\n",
        "\tcolor: #fff;\n",
        "\ttext-align: center;\n",
        "\tletter-spacing: 1.4px;\n",
        "\tfont-size: 30px;\n",
        "}\n",
        "\n",
        "input {\n",
        "\tmin-width: 150px;\n",
        "}\n",
        "\n",
        ".grid {\n",
        "\twidth: 300px;\n",
        "\tborder: 1px solid #2d2d2d;\n",
        "\tdisplay: grid;\n",
        "\tjustify-content: center;\n",
        "\tmargin: 20px auto;\n",
        "}\n",
        "\n",
        ".box {\n",
        "\tcolor: #fff;\n",
        "\tbackground: #2d2d2d;\n",
        "\tpadding: 12px;\n",
        "\tdisplay: inline-block;\n",
        "}\n",
        "```"
      ],
      "metadata": {
        "id": "xmvvUlf3tju6"
      },
      "id": "xmvvUlf3tju6"
    },
    {
      "cell_type": "markdown",
      "source": [
        "8. 다음으로 index.html 파일을 구성한다."
      ],
      "metadata": {
        "id": "vvmSY3ybtoop"
      },
      "id": "vvmSY3ybtoop"
    },
    {
      "cell_type": "markdown",
      "source": [
        "```html\n",
        "<!DOCTYPE html>\n",
        "<html>\n",
        "  <head>\n",
        "    <meta charset=\"UTF-8\">\n",
        "    <title>🛸 UFO Appearance Prediction! 👽</title>\n",
        "    <link rel=\"stylesheet\" href=\"{{ url_for('static', filename='css/styles.css') }}\">\n",
        "  </head>\n",
        "\n",
        "  <body>\n",
        "    <div class=\"grid\">\n",
        "\n",
        "      <div class=\"box\">\n",
        "\n",
        "        <p>According to the number of seconds, latitude and longitude, which country is likely to have reported seeing a UFO?</p>\n",
        "\n",
        "        <form action=\"{{ url_for('predict')}}\" method=\"post\">\n",
        "          <input type=\"number\" name=\"seconds\" placeholder=\"Seconds\" required=\"required\" min=\"0\" max=\"60\" />\n",
        "          <input type=\"text\" name=\"latitude\" placeholder=\"Latitude\" required=\"required\" />\n",
        "          <input type=\"text\" name=\"longitude\" placeholder=\"Longitude\" required=\"required\" />\n",
        "          <button type=\"submit\" class=\"btn\">Predict country where the UFO is seen</button>\n",
        "        </form>\n",
        "\n",
        "        <p>{{ prediction_text }}</p>\n",
        "\n",
        "      </div>\n",
        "\n",
        "    </div>\n",
        "\n",
        "  </body>\n",
        "</html>\n",
        "```"
      ],
      "metadata": {
        "id": "txFuY3qCtr6N"
      },
      "id": "txFuY3qCtr6N"
    },
    {
      "cell_type": "markdown",
      "source": [
        "이 파일에서 앱에서 제공할 변수 주변의 `{{}}` 구문을 확인한다. 경로에 대한 예측을 게시하는 `/predict`양식도 있다."
      ],
      "metadata": {
        "id": "pvNiZcFLuFDd"
      },
      "id": "pvNiZcFLuFDd"
    },
    {
      "cell_type": "markdown",
      "source": [
        "9. `app.py` 파일을 다음과 같이 추가한다."
      ],
      "metadata": {
        "id": "4C0Hxm0rtuLI"
      },
      "id": "4C0Hxm0rtuLI"
    },
    {
      "cell_type": "markdown",
      "source": [
        "```python\n",
        "import numpy as np\n",
        "from flask import Flask, request, render_template\n",
        "import pickle\n",
        "\n",
        "app = Flask(__name__)\n",
        "\n",
        "model = pickle.load(open(\"./ufo-model.pkl\", \"rb\"))\n",
        "\n",
        "\n",
        "@app.route(\"/\")\n",
        "def home():\n",
        "    return render_template(\"index.html\")\n",
        "\n",
        "\n",
        "@app.route(\"/predict\", methods=[\"POST\"])\n",
        "def predict():\n",
        "\n",
        "    int_features = [int(x) for x in request.form.values()]\n",
        "    final_features = [np.array(int_features)]\n",
        "    prediction = model.predict(final_features)\n",
        "\n",
        "    output = prediction[0]\n",
        "\n",
        "    countries = [\"Australia\", \"Canada\", \"Germany\", \"UK\", \"US\"]\n",
        "\n",
        "    return render_template(\n",
        "        \"index.html\", prediction_text=\"Likely country: {}\".format(countries[output])\n",
        "    )\n",
        "\n",
        "\n",
        "if __name__ == \"__main__\":\n",
        "    app.run(debug=True)\n",
        "```"
      ],
      "metadata": {
        "id": "Zl2yxpMat486"
      },
      "id": "Zl2yxpMat486"
    },
    {
      "cell_type": "markdown",
      "source": [
        "`python app.py`나 `python3 app.py`로 웹 서버를 실행하거나 로컬에서 시작하면 UFO가 발견 된 위치에 대한 질문에 답변을 얻을 수 있다."
      ],
      "metadata": {
        "id": "j33l3Eopt67I"
      },
      "id": "j33l3Eopt67I"
    },
    {
      "cell_type": "markdown",
      "source": [
        "그 전에 `app.py`의 다음 부분을 살펴본다\n",
        "1. 종속성이 먼저 로드되고 앱이 시작된다.\n",
        "2. 그 다음 모델을 가져온다.\n",
        "3. 그 다음 index.html이 홈 경로에서 랜더링 된다.\n"
      ],
      "metadata": {
        "id": "K2rqcfx8utUe"
      },
      "id": "K2rqcfx8utUe"
    },
    {
      "cell_type": "markdown",
      "source": [
        "`/predict` 경로에서 양식이 게시될 때 몇 가지 일이 발생한다.\n",
        "1. 양식 변수가 수집되어 numpy 배열로 변환된다. 그 다음 모델로 전송되고 예측이 반환된다\n",
        "2. 표시할 국가는 예측된 국가 코드에서 읽을 수 있는 텍스트로 다시 랜더링되고 헤당 값은 인텍스로 다시 전송되어 html 템플릿에서 랜더링된다."
      ],
      "metadata": {
        "id": "LVja6QtSu390"
      },
      "id": "LVja6QtSu390"
    },
    {
      "cell_type": "markdown",
      "source": [
        "Flask와 Pickle된 모델을 사용하여 이러한 방식으로 모델을 사용하는 것은 비교적 간단하다. 가장 어려운 것은 예측을 얻기 위해 모델로 보내야 하는 데이터의 모양을 이해하는 것이다. 이 모든 것은 모델이 어떻게 훈련되었는지에 달려 있다."
      ],
      "metadata": {
        "id": "pVOaB91VvFBU"
      },
      "id": "pVOaB91VvFBU"
    }
  ],
  "metadata": {
    "kernelspec": {
      "display_name": "Python 3 (ipykernel)",
      "language": "python",
      "name": "python3"
    },
    "language_info": {
      "codemirror_mode": {
        "name": "ipython",
        "version": 3
      },
      "file_extension": ".py",
      "mimetype": "text/x-python",
      "name": "python",
      "nbconvert_exporter": "python",
      "pygments_lexer": "ipython3",
      "version": "3.9.7"
    },
    "colab": {
      "name": "practice_webApp_mlModel.ipynb의 사본",
      "provenance": [],
      "collapsed_sections": []
    }
  },
  "nbformat": 4,
  "nbformat_minor": 5
}